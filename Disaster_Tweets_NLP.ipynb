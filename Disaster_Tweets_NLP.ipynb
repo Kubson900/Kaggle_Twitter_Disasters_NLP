{
 "cells": [
  {
   "cell_type": "markdown",
   "id": "bc41340b",
   "metadata": {
    "_cell_guid": "b1076dfc-b9ad-4769-8c92-a6c4dae69d19",
    "_uuid": "8f2839f25d086af736a60e9eeb907d3b93b6e0e5",
    "execution": {
     "iopub.execute_input": "2022-03-07T13:00:00.801432Z",
     "iopub.status.busy": "2022-03-07T13:00:00.800141Z",
     "iopub.status.idle": "2022-03-07T13:00:02.151317Z",
     "shell.execute_reply": "2022-03-07T13:00:02.150244Z",
     "shell.execute_reply.started": "2022-03-07T13:00:00.801296Z"
    },
    "papermill": {
     "duration": 0.041139,
     "end_time": "2022-03-07T21:39:07.791241",
     "exception": false,
     "start_time": "2022-03-07T21:39:07.750102",
     "status": "completed"
    },
    "tags": []
   },
   "source": [
    "# Imports and Data Loading"
   ]
  },
  {
   "cell_type": "code",
   "execution_count": 52,
   "id": "3007e796",
   "metadata": {
    "execution": {
     "iopub.execute_input": "2022-03-07T21:39:07.875799Z",
     "iopub.status.busy": "2022-03-07T21:39:07.873963Z",
     "iopub.status.idle": "2022-03-07T21:39:09.222553Z",
     "shell.execute_reply": "2022-03-07T21:39:09.223155Z",
     "shell.execute_reply.started": "2022-03-07T21:15:31.249470Z"
    },
    "papermill": {
     "duration": 1.393362,
     "end_time": "2022-03-07T21:39:09.223540",
     "exception": false,
     "start_time": "2022-03-07T21:39:07.830178",
     "status": "completed"
    },
    "tags": []
   },
   "outputs": [],
   "source": [
    "import numpy as np\n",
    "import pandas as pd\n",
    "import matplotlib.pyplot as plt\n",
    "import sklearn\n",
    "import seaborn as sns\n",
    "import os"
   ]
  },
  {
   "cell_type": "code",
   "execution_count": 53,
   "id": "e910da20",
   "metadata": {
    "execution": {
     "iopub.execute_input": "2022-03-07T21:39:09.397951Z",
     "iopub.status.busy": "2022-03-07T21:39:09.397180Z",
     "iopub.status.idle": "2022-03-07T21:39:09.483820Z",
     "shell.execute_reply": "2022-03-07T21:39:09.484347Z",
     "shell.execute_reply.started": "2022-03-07T21:19:48.753132Z"
    },
    "papermill": {
     "duration": 0.13103,
     "end_time": "2022-03-07T21:39:09.484578",
     "exception": false,
     "start_time": "2022-03-07T21:39:09.353548",
     "status": "completed"
    },
    "tags": []
   },
   "outputs": [],
   "source": [
    "train_data = pd.read_csv('train.csv')\n",
    "test_data = pd.read_csv('test.csv')"
   ]
  },
  {
   "cell_type": "markdown",
   "id": "1135c4fd",
   "metadata": {
    "papermill": {
     "duration": 0.038329,
     "end_time": "2022-03-07T21:39:09.566475",
     "exception": false,
     "start_time": "2022-03-07T21:39:09.528146",
     "status": "completed"
    },
    "tags": []
   },
   "source": [
    "# Basic understanding of dataset"
   ]
  },
  {
   "cell_type": "code",
   "execution_count": 54,
   "id": "bfc60edf",
   "metadata": {
    "execution": {
     "iopub.execute_input": "2022-03-07T21:39:09.655625Z",
     "iopub.status.busy": "2022-03-07T21:39:09.654488Z",
     "iopub.status.idle": "2022-03-07T21:39:09.669253Z",
     "shell.execute_reply": "2022-03-07T21:39:09.669783Z",
     "shell.execute_reply.started": "2022-03-07T21:19:50.684323Z"
    },
    "papermill": {
     "duration": 0.064417,
     "end_time": "2022-03-07T21:39:09.669981",
     "exception": false,
     "start_time": "2022-03-07T21:39:09.605564",
     "status": "completed"
    },
    "tags": []
   },
   "outputs": [
    {
     "data": {
      "text/plain": "   id keyword location                                               text  \\\n0   1     NaN      NaN  Our Deeds are the Reason of this #earthquake M...   \n1   4     NaN      NaN             Forest fire near La Ronge Sask. Canada   \n2   5     NaN      NaN  All residents asked to 'shelter in place' are ...   \n3   6     NaN      NaN  13,000 people receive #wildfires evacuation or...   \n4   7     NaN      NaN  Just got sent this photo from Ruby #Alaska as ...   \n\n   target  \n0       1  \n1       1  \n2       1  \n3       1  \n4       1  ",
      "text/html": "<div>\n<style scoped>\n    .dataframe tbody tr th:only-of-type {\n        vertical-align: middle;\n    }\n\n    .dataframe tbody tr th {\n        vertical-align: top;\n    }\n\n    .dataframe thead th {\n        text-align: right;\n    }\n</style>\n<table border=\"1\" class=\"dataframe\">\n  <thead>\n    <tr style=\"text-align: right;\">\n      <th></th>\n      <th>id</th>\n      <th>keyword</th>\n      <th>location</th>\n      <th>text</th>\n      <th>target</th>\n    </tr>\n  </thead>\n  <tbody>\n    <tr>\n      <th>0</th>\n      <td>1</td>\n      <td>NaN</td>\n      <td>NaN</td>\n      <td>Our Deeds are the Reason of this #earthquake M...</td>\n      <td>1</td>\n    </tr>\n    <tr>\n      <th>1</th>\n      <td>4</td>\n      <td>NaN</td>\n      <td>NaN</td>\n      <td>Forest fire near La Ronge Sask. Canada</td>\n      <td>1</td>\n    </tr>\n    <tr>\n      <th>2</th>\n      <td>5</td>\n      <td>NaN</td>\n      <td>NaN</td>\n      <td>All residents asked to 'shelter in place' are ...</td>\n      <td>1</td>\n    </tr>\n    <tr>\n      <th>3</th>\n      <td>6</td>\n      <td>NaN</td>\n      <td>NaN</td>\n      <td>13,000 people receive #wildfires evacuation or...</td>\n      <td>1</td>\n    </tr>\n    <tr>\n      <th>4</th>\n      <td>7</td>\n      <td>NaN</td>\n      <td>NaN</td>\n      <td>Just got sent this photo from Ruby #Alaska as ...</td>\n      <td>1</td>\n    </tr>\n  </tbody>\n</table>\n</div>"
     },
     "execution_count": 54,
     "metadata": {},
     "output_type": "execute_result"
    }
   ],
   "source": [
    "train_data.head()"
   ]
  },
  {
   "cell_type": "code",
   "execution_count": 55,
   "id": "0352b96c",
   "metadata": {
    "execution": {
     "iopub.execute_input": "2022-03-07T21:39:09.754889Z",
     "iopub.status.busy": "2022-03-07T21:39:09.753913Z",
     "iopub.status.idle": "2022-03-07T21:39:09.769932Z",
     "shell.execute_reply": "2022-03-07T21:39:09.770395Z",
     "shell.execute_reply.started": "2022-03-07T21:19:51.717179Z"
    },
    "papermill": {
     "duration": 0.060536,
     "end_time": "2022-03-07T21:39:09.770606",
     "exception": false,
     "start_time": "2022-03-07T21:39:09.710070",
     "status": "completed"
    },
    "tags": []
   },
   "outputs": [
    {
     "data": {
      "text/plain": "fatalities               45\ndeluge                   42\narmageddon               42\nsinking                  41\ndamage                   41\n                         ..\nforest%20fire            19\nepicentre                12\nthreat                   11\ninundation               10\nradiation%20emergency     9\nName: keyword, Length: 221, dtype: int64"
     },
     "execution_count": 55,
     "metadata": {},
     "output_type": "execute_result"
    }
   ],
   "source": [
    "train_data['keyword'].value_counts()"
   ]
  },
  {
   "cell_type": "code",
   "execution_count": 56,
   "id": "0141f049",
   "metadata": {
    "execution": {
     "iopub.execute_input": "2022-03-07T21:39:09.873995Z",
     "iopub.status.busy": "2022-03-07T21:39:09.868887Z",
     "iopub.status.idle": "2022-03-07T21:39:09.881898Z",
     "shell.execute_reply": "2022-03-07T21:39:09.881342Z",
     "shell.execute_reply.started": "2022-03-07T21:19:52.752363Z"
    },
    "papermill": {
     "duration": 0.064841,
     "end_time": "2022-03-07T21:39:09.882074",
     "exception": false,
     "start_time": "2022-03-07T21:39:09.817233",
     "status": "completed"
    },
    "tags": []
   },
   "outputs": [
    {
     "data": {
      "text/plain": "USA                    104\nNew York                71\nUnited States           50\nLondon                  45\nCanada                  29\n                      ... \nMontrÌ©al, QuÌ©bec       1\nMontreal                 1\nÌÏT: 6.4682,3.18287      1\nLive4Heed??              1\nLincoln                  1\nName: location, Length: 3341, dtype: int64"
     },
     "execution_count": 56,
     "metadata": {},
     "output_type": "execute_result"
    }
   ],
   "source": [
    "train_data['location'].value_counts()"
   ]
  },
  {
   "cell_type": "code",
   "execution_count": 57,
   "id": "544633be",
   "metadata": {
    "execution": {
     "iopub.execute_input": "2022-03-07T21:39:09.974082Z",
     "iopub.status.busy": "2022-03-07T21:39:09.973080Z",
     "iopub.status.idle": "2022-03-07T21:39:09.976583Z",
     "shell.execute_reply": "2022-03-07T21:39:09.977129Z",
     "shell.execute_reply.started": "2022-03-07T21:19:53.658307Z"
    },
    "papermill": {
     "duration": 0.053174,
     "end_time": "2022-03-07T21:39:09.977317",
     "exception": false,
     "start_time": "2022-03-07T21:39:09.924143",
     "status": "completed"
    },
    "tags": []
   },
   "outputs": [
    {
     "data": {
      "text/plain": "0    4342\n1    3271\nName: target, dtype: int64"
     },
     "execution_count": 57,
     "metadata": {},
     "output_type": "execute_result"
    }
   ],
   "source": [
    "train_data['target'].value_counts()"
   ]
  },
  {
   "cell_type": "code",
   "execution_count": 58,
   "id": "26514dca",
   "metadata": {
    "execution": {
     "iopub.execute_input": "2022-03-07T21:39:10.072770Z",
     "iopub.status.busy": "2022-03-07T21:39:10.071649Z",
     "iopub.status.idle": "2022-03-07T21:39:10.094353Z",
     "shell.execute_reply": "2022-03-07T21:39:10.094878Z",
     "shell.execute_reply.started": "2022-03-07T21:19:54.392490Z"
    },
    "papermill": {
     "duration": 0.075929,
     "end_time": "2022-03-07T21:39:10.095086",
     "exception": false,
     "start_time": "2022-03-07T21:39:10.019157",
     "status": "completed"
    },
    "tags": []
   },
   "outputs": [
    {
     "name": "stdout",
     "output_type": "stream",
     "text": [
      "<class 'pandas.core.frame.DataFrame'>\n",
      "RangeIndex: 7613 entries, 0 to 7612\n",
      "Data columns (total 5 columns):\n",
      " #   Column    Non-Null Count  Dtype \n",
      "---  ------    --------------  ----- \n",
      " 0   id        7613 non-null   int64 \n",
      " 1   keyword   7552 non-null   object\n",
      " 2   location  5080 non-null   object\n",
      " 3   text      7613 non-null   object\n",
      " 4   target    7613 non-null   int64 \n",
      "dtypes: int64(2), object(3)\n",
      "memory usage: 297.5+ KB\n",
      "\n",
      "\n",
      "<class 'pandas.core.frame.DataFrame'>\n",
      "RangeIndex: 3263 entries, 0 to 3262\n",
      "Data columns (total 4 columns):\n",
      " #   Column    Non-Null Count  Dtype \n",
      "---  ------    --------------  ----- \n",
      " 0   id        3263 non-null   int64 \n",
      " 1   keyword   3237 non-null   object\n",
      " 2   location  2158 non-null   object\n",
      " 3   text      3263 non-null   object\n",
      "dtypes: int64(1), object(3)\n",
      "memory usage: 102.1+ KB\n"
     ]
    }
   ],
   "source": [
    "train_data.info()\n",
    "print('\\n')\n",
    "test_data.info()"
   ]
  },
  {
   "cell_type": "code",
   "execution_count": 59,
   "id": "bd39ff53",
   "metadata": {
    "execution": {
     "iopub.execute_input": "2022-03-07T21:39:10.182216Z",
     "iopub.status.busy": "2022-03-07T21:39:10.181103Z",
     "iopub.status.idle": "2022-03-07T21:39:10.207574Z",
     "shell.execute_reply": "2022-03-07T21:39:10.208111Z",
     "shell.execute_reply.started": "2022-03-07T21:19:54.867841Z"
    },
    "papermill": {
     "duration": 0.071946,
     "end_time": "2022-03-07T21:39:10.208310",
     "exception": false,
     "start_time": "2022-03-07T21:39:10.136364",
     "status": "completed"
    },
    "tags": []
   },
   "outputs": [
    {
     "data": {
      "text/plain": "         count         mean         std  min     25%     50%     75%      max\nid      7613.0  5441.934848  3137.11609  1.0  2734.0  5408.0  8146.0  10873.0\ntarget  7613.0     0.429660     0.49506  0.0     0.0     0.0     1.0      1.0",
      "text/html": "<div>\n<style scoped>\n    .dataframe tbody tr th:only-of-type {\n        vertical-align: middle;\n    }\n\n    .dataframe tbody tr th {\n        vertical-align: top;\n    }\n\n    .dataframe thead th {\n        text-align: right;\n    }\n</style>\n<table border=\"1\" class=\"dataframe\">\n  <thead>\n    <tr style=\"text-align: right;\">\n      <th></th>\n      <th>count</th>\n      <th>mean</th>\n      <th>std</th>\n      <th>min</th>\n      <th>25%</th>\n      <th>50%</th>\n      <th>75%</th>\n      <th>max</th>\n    </tr>\n  </thead>\n  <tbody>\n    <tr>\n      <th>id</th>\n      <td>7613.0</td>\n      <td>5441.934848</td>\n      <td>3137.11609</td>\n      <td>1.0</td>\n      <td>2734.0</td>\n      <td>5408.0</td>\n      <td>8146.0</td>\n      <td>10873.0</td>\n    </tr>\n    <tr>\n      <th>target</th>\n      <td>7613.0</td>\n      <td>0.429660</td>\n      <td>0.49506</td>\n      <td>0.0</td>\n      <td>0.0</td>\n      <td>0.0</td>\n      <td>1.0</td>\n      <td>1.0</td>\n    </tr>\n  </tbody>\n</table>\n</div>"
     },
     "execution_count": 59,
     "metadata": {},
     "output_type": "execute_result"
    }
   ],
   "source": [
    "train_data.describe().transpose()"
   ]
  },
  {
   "cell_type": "code",
   "execution_count": 60,
   "id": "53da6138",
   "metadata": {
    "execution": {
     "iopub.execute_input": "2022-03-07T21:39:10.296370Z",
     "iopub.status.busy": "2022-03-07T21:39:10.295280Z",
     "iopub.status.idle": "2022-03-07T21:39:10.324663Z",
     "shell.execute_reply": "2022-03-07T21:39:10.325162Z",
     "shell.execute_reply.started": "2022-03-07T21:19:55.702581Z"
    },
    "papermill": {
     "duration": 0.075421,
     "end_time": "2022-03-07T21:39:10.325353",
     "exception": false,
     "start_time": "2022-03-07T21:39:10.249932",
     "status": "completed"
    },
    "tags": []
   },
   "outputs": [
    {
     "data": {
      "text/plain": "         count unique                                                top freq\nkeyword   7552    221                                         fatalities   45\nlocation  5080   3341                                                USA  104\ntext      7613   7503  11-Year-Old Boy Charged With Manslaughter of T...   10",
      "text/html": "<div>\n<style scoped>\n    .dataframe tbody tr th:only-of-type {\n        vertical-align: middle;\n    }\n\n    .dataframe tbody tr th {\n        vertical-align: top;\n    }\n\n    .dataframe thead th {\n        text-align: right;\n    }\n</style>\n<table border=\"1\" class=\"dataframe\">\n  <thead>\n    <tr style=\"text-align: right;\">\n      <th></th>\n      <th>count</th>\n      <th>unique</th>\n      <th>top</th>\n      <th>freq</th>\n    </tr>\n  </thead>\n  <tbody>\n    <tr>\n      <th>keyword</th>\n      <td>7552</td>\n      <td>221</td>\n      <td>fatalities</td>\n      <td>45</td>\n    </tr>\n    <tr>\n      <th>location</th>\n      <td>5080</td>\n      <td>3341</td>\n      <td>USA</td>\n      <td>104</td>\n    </tr>\n    <tr>\n      <th>text</th>\n      <td>7613</td>\n      <td>7503</td>\n      <td>11-Year-Old Boy Charged With Manslaughter of T...</td>\n      <td>10</td>\n    </tr>\n  </tbody>\n</table>\n</div>"
     },
     "execution_count": 60,
     "metadata": {},
     "output_type": "execute_result"
    }
   ],
   "source": [
    "train_data.select_dtypes(include=object).describe().transpose()"
   ]
  },
  {
   "cell_type": "markdown",
   "id": "22aa0028",
   "metadata": {
    "execution": {
     "iopub.execute_input": "2022-03-07T13:11:18.764193Z",
     "iopub.status.busy": "2022-03-07T13:11:18.763917Z",
     "iopub.status.idle": "2022-03-07T13:11:18.768119Z",
     "shell.execute_reply": "2022-03-07T13:11:18.767289Z",
     "shell.execute_reply.started": "2022-03-07T13:11:18.764162Z"
    },
    "papermill": {
     "duration": 0.041769,
     "end_time": "2022-03-07T21:39:10.408892",
     "exception": false,
     "start_time": "2022-03-07T21:39:10.367123",
     "status": "completed"
    },
    "tags": []
   },
   "source": [
    "# Missing values"
   ]
  },
  {
   "cell_type": "code",
   "execution_count": 61,
   "id": "b5ae2b82",
   "metadata": {
    "execution": {
     "iopub.execute_input": "2022-03-07T21:39:10.498011Z",
     "iopub.status.busy": "2022-03-07T21:39:10.497025Z",
     "iopub.status.idle": "2022-03-07T21:39:10.507873Z",
     "shell.execute_reply": "2022-03-07T21:39:10.508457Z",
     "shell.execute_reply.started": "2022-03-07T21:19:57.235254Z"
    },
    "papermill": {
     "duration": 0.057574,
     "end_time": "2022-03-07T21:39:10.508687",
     "exception": false,
     "start_time": "2022-03-07T21:39:10.451113",
     "status": "completed"
    },
    "tags": []
   },
   "outputs": [
    {
     "data": {
      "text/plain": "id             0\nkeyword       61\nlocation    2533\ntext           0\ntarget         0\ndtype: int64"
     },
     "execution_count": 61,
     "metadata": {},
     "output_type": "execute_result"
    }
   ],
   "source": [
    "train_data.isnull().sum()"
   ]
  },
  {
   "cell_type": "code",
   "execution_count": 62,
   "id": "6d060e4d",
   "metadata": {
    "execution": {
     "iopub.execute_input": "2022-03-07T21:39:10.597918Z",
     "iopub.status.busy": "2022-03-07T21:39:10.596921Z",
     "iopub.status.idle": "2022-03-07T21:39:10.606138Z",
     "shell.execute_reply": "2022-03-07T21:39:10.606752Z",
     "shell.execute_reply.started": "2022-03-07T21:19:57.496845Z"
    },
    "papermill": {
     "duration": 0.055943,
     "end_time": "2022-03-07T21:39:10.606946",
     "exception": false,
     "start_time": "2022-03-07T21:39:10.551003",
     "status": "completed"
    },
    "tags": []
   },
   "outputs": [
    {
     "data": {
      "text/plain": "id             0\nkeyword       26\nlocation    1105\ntext           0\ndtype: int64"
     },
     "execution_count": 62,
     "metadata": {},
     "output_type": "execute_result"
    }
   ],
   "source": [
    "test_data.isnull().sum()"
   ]
  },
  {
   "cell_type": "code",
   "execution_count": 63,
   "id": "c3bc002f",
   "metadata": {
    "execution": {
     "iopub.execute_input": "2022-03-07T21:39:10.697554Z",
     "iopub.status.busy": "2022-03-07T21:39:10.696532Z",
     "iopub.status.idle": "2022-03-07T21:39:10.704114Z",
     "shell.execute_reply": "2022-03-07T21:39:10.704803Z",
     "shell.execute_reply.started": "2022-03-07T21:19:57.934535Z"
    },
    "papermill": {
     "duration": 0.055288,
     "end_time": "2022-03-07T21:39:10.705007",
     "exception": false,
     "start_time": "2022-03-07T21:39:10.649719",
     "status": "completed"
    },
    "tags": []
   },
   "outputs": [],
   "source": [
    "train_data['location'] = train_data['location'].fillna('None')\n",
    "test_data['location'] = test_data['location'].fillna('None')"
   ]
  },
  {
   "cell_type": "code",
   "execution_count": 64,
   "id": "a8baddbd",
   "metadata": {
    "execution": {
     "iopub.execute_input": "2022-03-07T21:39:10.800413Z",
     "iopub.status.busy": "2022-03-07T21:39:10.799391Z",
     "iopub.status.idle": "2022-03-07T21:39:10.808648Z",
     "shell.execute_reply": "2022-03-07T21:39:10.809180Z",
     "shell.execute_reply.started": "2022-03-07T21:19:58.307167Z"
    },
    "papermill": {
     "duration": 0.056926,
     "end_time": "2022-03-07T21:39:10.809374",
     "exception": false,
     "start_time": "2022-03-07T21:39:10.752448",
     "status": "completed"
    },
    "tags": []
   },
   "outputs": [
    {
     "data": {
      "text/plain": "\"No way...I can't eat that shit\""
     },
     "execution_count": 64,
     "metadata": {},
     "output_type": "execute_result"
    }
   ],
   "source": [
    "train_data[train_data['keyword'].isnull()].iloc[25]['text']"
   ]
  },
  {
   "cell_type": "code",
   "execution_count": 65,
   "id": "e6eace9e",
   "metadata": {
    "execution": {
     "iopub.execute_input": "2022-03-07T21:39:10.906372Z",
     "iopub.status.busy": "2022-03-07T21:39:10.905273Z",
     "iopub.status.idle": "2022-03-07T21:39:10.907225Z",
     "shell.execute_reply": "2022-03-07T21:39:10.907744Z",
     "shell.execute_reply.started": "2022-03-07T21:19:58.643041Z"
    },
    "papermill": {
     "duration": 0.054521,
     "end_time": "2022-03-07T21:39:10.907945",
     "exception": false,
     "start_time": "2022-03-07T21:39:10.853424",
     "status": "completed"
    },
    "tags": []
   },
   "outputs": [],
   "source": [
    "train_data['keyword'] = train_data['keyword'].fillna('None')\n",
    "test_data['keyword'] = test_data['keyword'].fillna('None')"
   ]
  },
  {
   "cell_type": "code",
   "execution_count": 66,
   "id": "c0290223",
   "metadata": {
    "execution": {
     "iopub.execute_input": "2022-03-07T21:39:10.999503Z",
     "iopub.status.busy": "2022-03-07T21:39:10.998461Z",
     "iopub.status.idle": "2022-03-07T21:39:11.010767Z",
     "shell.execute_reply": "2022-03-07T21:39:11.011237Z",
     "shell.execute_reply.started": "2022-03-07T21:19:59.032839Z"
    },
    "papermill": {
     "duration": 0.059904,
     "end_time": "2022-03-07T21:39:11.011464",
     "exception": false,
     "start_time": "2022-03-07T21:39:10.951560",
     "status": "completed"
    },
    "tags": []
   },
   "outputs": [
    {
     "data": {
      "text/plain": "id          0\nkeyword     0\nlocation    0\ntext        0\ntarget      0\ndtype: int64"
     },
     "execution_count": 66,
     "metadata": {},
     "output_type": "execute_result"
    }
   ],
   "source": [
    "train_data.isnull().sum()"
   ]
  },
  {
   "cell_type": "code",
   "execution_count": 67,
   "id": "d44f023e",
   "metadata": {
    "execution": {
     "iopub.execute_input": "2022-03-07T21:39:11.109562Z",
     "iopub.status.busy": "2022-03-07T21:39:11.108882Z",
     "iopub.status.idle": "2022-03-07T21:39:11.111703Z",
     "shell.execute_reply": "2022-03-07T21:39:11.112208Z",
     "shell.execute_reply.started": "2022-03-07T21:19:59.797190Z"
    },
    "papermill": {
     "duration": 0.0569,
     "end_time": "2022-03-07T21:39:11.112394",
     "exception": false,
     "start_time": "2022-03-07T21:39:11.055494",
     "status": "completed"
    },
    "tags": []
   },
   "outputs": [
    {
     "data": {
      "text/plain": "id          0\nkeyword     0\nlocation    0\ntext        0\ndtype: int64"
     },
     "execution_count": 67,
     "metadata": {},
     "output_type": "execute_result"
    }
   ],
   "source": [
    "test_data.isnull().sum()"
   ]
  },
  {
   "cell_type": "markdown",
   "id": "8ab4f875",
   "metadata": {
    "papermill": {
     "duration": 0.043421,
     "end_time": "2022-03-07T21:39:11.199816",
     "exception": false,
     "start_time": "2022-03-07T21:39:11.156395",
     "status": "completed"
    },
    "tags": []
   },
   "source": [
    "# Feature Extraction"
   ]
  },
  {
   "cell_type": "code",
   "execution_count": 68,
   "id": "79489814",
   "metadata": {
    "execution": {
     "iopub.execute_input": "2022-03-07T21:39:11.293439Z",
     "iopub.status.busy": "2022-03-07T21:39:11.292709Z",
     "iopub.status.idle": "2022-03-07T21:39:11.340448Z",
     "shell.execute_reply": "2022-03-07T21:39:11.339800Z",
     "shell.execute_reply.started": "2022-03-07T21:20:07.921605Z"
    },
    "papermill": {
     "duration": 0.096886,
     "end_time": "2022-03-07T21:39:11.340653",
     "exception": false,
     "start_time": "2022-03-07T21:39:11.243767",
     "status": "completed"
    },
    "tags": []
   },
   "outputs": [],
   "source": [
    "from sklearn.feature_extraction.text import CountVectorizer, TfidfVectorizer"
   ]
  },
  {
   "cell_type": "code",
   "execution_count": 69,
   "id": "e5a8c941",
   "metadata": {
    "execution": {
     "iopub.execute_input": "2022-03-07T21:39:11.438099Z",
     "iopub.status.busy": "2022-03-07T21:39:11.436967Z",
     "iopub.status.idle": "2022-03-07T21:39:11.440003Z",
     "shell.execute_reply": "2022-03-07T21:39:11.439446Z",
     "shell.execute_reply.started": "2022-03-07T21:27:58.387749Z"
    },
    "papermill": {
     "duration": 0.05345,
     "end_time": "2022-03-07T21:39:11.440172",
     "exception": false,
     "start_time": "2022-03-07T21:39:11.386722",
     "status": "completed"
    },
    "tags": []
   },
   "outputs": [],
   "source": [
    "X = train_data['text']\n",
    "y = train_data['target']"
   ]
  },
  {
   "cell_type": "code",
   "execution_count": 70,
   "id": "aadc715c",
   "metadata": {
    "execution": {
     "iopub.execute_input": "2022-03-07T21:39:11.533784Z",
     "iopub.status.busy": "2022-03-07T21:39:11.532781Z",
     "iopub.status.idle": "2022-03-07T21:39:11.586196Z",
     "shell.execute_reply": "2022-03-07T21:39:11.586794Z",
     "shell.execute_reply.started": "2022-03-07T21:29:19.358335Z"
    },
    "papermill": {
     "duration": 0.102004,
     "end_time": "2022-03-07T21:39:11.587035",
     "exception": false,
     "start_time": "2022-03-07T21:39:11.485031",
     "status": "completed"
    },
    "tags": []
   },
   "outputs": [],
   "source": [
    "from sklearn.model_selection import train_test_split"
   ]
  },
  {
   "cell_type": "code",
   "execution_count": 71,
   "id": "f3ab0847",
   "metadata": {
    "execution": {
     "iopub.execute_input": "2022-03-07T21:39:11.683475Z",
     "iopub.status.busy": "2022-03-07T21:39:11.679750Z",
     "iopub.status.idle": "2022-03-07T21:39:11.687797Z",
     "shell.execute_reply": "2022-03-07T21:39:11.688297Z",
     "shell.execute_reply.started": "2022-03-07T21:29:21.676576Z"
    },
    "papermill": {
     "duration": 0.05668,
     "end_time": "2022-03-07T21:39:11.688510",
     "exception": false,
     "start_time": "2022-03-07T21:39:11.631830",
     "status": "completed"
    },
    "tags": []
   },
   "outputs": [],
   "source": [
    "X_train, X_validation, y_train, y_validation = train_test_split(X, y, test_size=0.1, random_state=101)"
   ]
  },
  {
   "cell_type": "code",
   "execution_count": 72,
   "id": "65142431",
   "metadata": {
    "execution": {
     "iopub.execute_input": "2022-03-07T21:39:11.783583Z",
     "iopub.status.busy": "2022-03-07T21:39:11.782518Z",
     "iopub.status.idle": "2022-03-07T21:39:12.006069Z",
     "shell.execute_reply": "2022-03-07T21:39:12.006595Z",
     "shell.execute_reply.started": "2022-03-07T21:29:38.236892Z"
    },
    "papermill": {
     "duration": 0.273127,
     "end_time": "2022-03-07T21:39:12.006830",
     "exception": false,
     "start_time": "2022-03-07T21:39:11.733703",
     "status": "completed"
    },
    "tags": []
   },
   "outputs": [
    {
     "data": {
      "text/plain": "TfidfVectorizer()"
     },
     "execution_count": 72,
     "metadata": {},
     "output_type": "execute_result"
    }
   ],
   "source": [
    "tfidf = TfidfVectorizer()\n",
    "tfidf.fit(X_train)"
   ]
  },
  {
   "cell_type": "code",
   "execution_count": 73,
   "id": "6043f9bb",
   "metadata": {
    "execution": {
     "iopub.execute_input": "2022-03-07T21:39:12.101301Z",
     "iopub.status.busy": "2022-03-07T21:39:12.100309Z",
     "iopub.status.idle": "2022-03-07T21:39:12.279748Z",
     "shell.execute_reply": "2022-03-07T21:39:12.279102Z",
     "shell.execute_reply.started": "2022-03-07T21:30:00.412142Z"
    },
    "papermill": {
     "duration": 0.227717,
     "end_time": "2022-03-07T21:39:12.279910",
     "exception": false,
     "start_time": "2022-03-07T21:39:12.052193",
     "status": "completed"
    },
    "tags": []
   },
   "outputs": [],
   "source": [
    "X_train_tfidf = tfidf.transform(X_train)\n",
    "X_validation_tfidf = tfidf.transform(X_validation)"
   ]
  },
  {
   "cell_type": "markdown",
   "id": "43b5165f",
   "metadata": {
    "papermill": {
     "duration": 0.045499,
     "end_time": "2022-03-07T21:39:12.369934",
     "exception": false,
     "start_time": "2022-03-07T21:39:12.324435",
     "status": "completed"
    },
    "tags": []
   },
   "source": [
    "# Model Selection"
   ]
  },
  {
   "cell_type": "code",
   "execution_count": 74,
   "id": "ad538b8c",
   "metadata": {
    "execution": {
     "iopub.execute_input": "2022-03-07T21:39:12.464757Z",
     "iopub.status.busy": "2022-03-07T21:39:12.463786Z",
     "iopub.status.idle": "2022-03-07T21:39:12.474462Z",
     "shell.execute_reply": "2022-03-07T21:39:12.475071Z",
     "shell.execute_reply.started": "2022-03-07T21:31:08.673926Z"
    },
    "papermill": {
     "duration": 0.060814,
     "end_time": "2022-03-07T21:39:12.475273",
     "exception": false,
     "start_time": "2022-03-07T21:39:12.414459",
     "status": "completed"
    },
    "tags": []
   },
   "outputs": [
    {
     "data": {
      "text/plain": "MultinomialNB()"
     },
     "execution_count": 74,
     "metadata": {},
     "output_type": "execute_result"
    }
   ],
   "source": [
    "from sklearn.naive_bayes import MultinomialNB\n",
    "nb = MultinomialNB()\n",
    "nb.fit(X_train_tfidf,y_train)"
   ]
  },
  {
   "cell_type": "code",
   "execution_count": 75,
   "id": "d0f32cb2",
   "metadata": {
    "execution": {
     "iopub.execute_input": "2022-03-07T21:39:12.572017Z",
     "iopub.status.busy": "2022-03-07T21:39:12.571249Z",
     "iopub.status.idle": "2022-03-07T21:39:13.034117Z",
     "shell.execute_reply": "2022-03-07T21:39:13.035113Z",
     "shell.execute_reply.started": "2022-03-07T21:31:15.873281Z"
    },
    "papermill": {
     "duration": 0.515326,
     "end_time": "2022-03-07T21:39:13.035581",
     "exception": false,
     "start_time": "2022-03-07T21:39:12.520255",
     "status": "completed"
    },
    "tags": []
   },
   "outputs": [
    {
     "data": {
      "text/plain": "LogisticRegression(max_iter=1000)"
     },
     "execution_count": 75,
     "metadata": {},
     "output_type": "execute_result"
    }
   ],
   "source": [
    "from sklearn.linear_model import LogisticRegression\n",
    "log = LogisticRegression(max_iter=1000)\n",
    "log.fit(X_train_tfidf,y_train)"
   ]
  },
  {
   "cell_type": "code",
   "execution_count": 76,
   "id": "ea85b4a8",
   "metadata": {
    "execution": {
     "iopub.execute_input": "2022-03-07T21:39:13.216808Z",
     "iopub.status.busy": "2022-03-07T21:39:13.215826Z",
     "iopub.status.idle": "2022-03-07T21:39:13.258790Z",
     "shell.execute_reply": "2022-03-07T21:39:13.258098Z",
     "shell.execute_reply.started": "2022-03-07T21:31:23.677037Z"
    },
    "papermill": {
     "duration": 0.096126,
     "end_time": "2022-03-07T21:39:13.258992",
     "exception": false,
     "start_time": "2022-03-07T21:39:13.162866",
     "status": "completed"
    },
    "tags": []
   },
   "outputs": [
    {
     "data": {
      "text/plain": "LinearSVC()"
     },
     "execution_count": 76,
     "metadata": {},
     "output_type": "execute_result"
    }
   ],
   "source": [
    "from sklearn.svm import LinearSVC\n",
    "svc = LinearSVC()\n",
    "svc.fit(X_train_tfidf,y_train)"
   ]
  },
  {
   "cell_type": "code",
   "execution_count": 77,
   "id": "d928e237",
   "metadata": {
    "execution": {
     "iopub.execute_input": "2022-03-07T21:39:13.358290Z",
     "iopub.status.busy": "2022-03-07T21:39:13.357439Z",
     "iopub.status.idle": "2022-03-07T21:39:13.361055Z",
     "shell.execute_reply": "2022-03-07T21:39:13.361561Z",
     "shell.execute_reply.started": "2022-03-07T21:31:37.615763Z"
    },
    "papermill": {
     "duration": 0.054974,
     "end_time": "2022-03-07T21:39:13.361784",
     "exception": false,
     "start_time": "2022-03-07T21:39:13.306810",
     "status": "completed"
    },
    "tags": []
   },
   "outputs": [],
   "source": [
    "from sklearn.metrics import ConfusionMatrixDisplay,classification_report"
   ]
  },
  {
   "cell_type": "code",
   "execution_count": 78,
   "id": "d7fbcfa2",
   "metadata": {
    "execution": {
     "iopub.execute_input": "2022-03-07T21:39:13.459525Z",
     "iopub.status.busy": "2022-03-07T21:39:13.458690Z",
     "iopub.status.idle": "2022-03-07T21:39:13.463518Z",
     "shell.execute_reply": "2022-03-07T21:39:13.464104Z",
     "shell.execute_reply.started": "2022-03-07T21:32:40.033804Z"
    },
    "papermill": {
     "duration": 0.054844,
     "end_time": "2022-03-07T21:39:13.464314",
     "exception": false,
     "start_time": "2022-03-07T21:39:13.409470",
     "status": "completed"
    },
    "tags": []
   },
   "outputs": [],
   "source": [
    "def report(model):\n",
    "    preds = model.predict(X_validation_tfidf)\n",
    "    print(classification_report(y_validation,preds))\n",
    "    ConfusionMatrixDisplay.from_predictions(y_validation,preds, cmap='Blues')"
   ]
  },
  {
   "cell_type": "code",
   "execution_count": 79,
   "id": "2ed1e260",
   "metadata": {
    "execution": {
     "iopub.execute_input": "2022-03-07T21:39:13.559816Z",
     "iopub.status.busy": "2022-03-07T21:39:13.559164Z",
     "iopub.status.idle": "2022-03-07T21:39:13.861240Z",
     "shell.execute_reply": "2022-03-07T21:39:13.860258Z",
     "shell.execute_reply.started": "2022-03-07T21:32:41.910515Z"
    },
    "papermill": {
     "duration": 0.350925,
     "end_time": "2022-03-07T21:39:13.861409",
     "exception": false,
     "start_time": "2022-03-07T21:39:13.510484",
     "status": "completed"
    },
    "tags": []
   },
   "outputs": [
    {
     "name": "stdout",
     "output_type": "stream",
     "text": [
      "NB MODEL\n",
      "              precision    recall  f1-score   support\n",
      "\n",
      "           0       0.76      0.93      0.84       442\n",
      "           1       0.87      0.60      0.71       320\n",
      "\n",
      "    accuracy                           0.79       762\n",
      "   macro avg       0.81      0.77      0.78       762\n",
      "weighted avg       0.81      0.79      0.79       762\n",
      "\n"
     ]
    },
    {
     "data": {
      "text/plain": "<Figure size 432x288 with 2 Axes>",
      "image/png": "[encoded data removed]"
     },
     "metadata": {
      "needs_background": "light"
     },
     "output_type": "display_data"
    }
   ],
   "source": [
    "print(\"NB MODEL\")\n",
    "report(nb)"
   ]
  },
  {
   "cell_type": "code",
   "execution_count": 80,
   "id": "b9669e3d",
   "metadata": {
    "execution": {
     "iopub.execute_input": "2022-03-07T21:39:13.961697Z",
     "iopub.status.busy": "2022-03-07T21:39:13.960673Z",
     "iopub.status.idle": "2022-03-07T21:39:14.211287Z",
     "shell.execute_reply": "2022-03-07T21:39:14.211843Z",
     "shell.execute_reply.started": "2022-03-07T21:33:00.405668Z"
    },
    "papermill": {
     "duration": 0.302559,
     "end_time": "2022-03-07T21:39:14.212018",
     "exception": false,
     "start_time": "2022-03-07T21:39:13.909459",
     "status": "completed"
    },
    "tags": []
   },
   "outputs": [
    {
     "name": "stdout",
     "output_type": "stream",
     "text": [
      "Logistic Regression\n",
      "              precision    recall  f1-score   support\n",
      "\n",
      "           0       0.80      0.87      0.84       442\n",
      "           1       0.80      0.70      0.75       320\n",
      "\n",
      "    accuracy                           0.80       762\n",
      "   macro avg       0.80      0.79      0.79       762\n",
      "weighted avg       0.80      0.80      0.80       762\n",
      "\n"
     ]
    },
    {
     "data": {
      "text/plain": "<Figure size 432x288 with 2 Axes>",
      "image/png": "[encoded data removed]"
     },
     "metadata": {
      "needs_background": "light"
     },
     "output_type": "display_data"
    }
   ],
   "source": [
    "print(\"Logistic Regression\")\n",
    "report(log)"
   ]
  },
  {
   "cell_type": "code",
   "execution_count": 81,
   "id": "ddfa149a",
   "metadata": {
    "execution": {
     "iopub.execute_input": "2022-03-07T21:39:14.315265Z",
     "iopub.status.busy": "2022-03-07T21:39:14.312877Z",
     "iopub.status.idle": "2022-03-07T21:39:14.562857Z",
     "shell.execute_reply": "2022-03-07T21:39:14.562296Z",
     "shell.execute_reply.started": "2022-03-07T21:33:09.020253Z"
    },
    "papermill": {
     "duration": 0.302194,
     "end_time": "2022-03-07T21:39:14.563018",
     "exception": false,
     "start_time": "2022-03-07T21:39:14.260824",
     "status": "completed"
    },
    "tags": []
   },
   "outputs": [
    {
     "name": "stdout",
     "output_type": "stream",
     "text": [
      "SVC\n",
      "              precision    recall  f1-score   support\n",
      "\n",
      "           0       0.80      0.82      0.81       442\n",
      "           1       0.74      0.72      0.73       320\n",
      "\n",
      "    accuracy                           0.78       762\n",
      "   macro avg       0.77      0.77      0.77       762\n",
      "weighted avg       0.78      0.78      0.78       762\n",
      "\n"
     ]
    },
    {
     "data": {
      "text/plain": "<Figure size 432x288 with 2 Axes>",
      "image/png": "[encoded data removed]"
     },
     "metadata": {
      "needs_background": "light"
     },
     "output_type": "display_data"
    }
   ],
   "source": [
    "print('SVC')\n",
    "report(svc)"
   ]
  },
  {
   "cell_type": "markdown",
   "id": "e6041b2a",
   "metadata": {
    "papermill": {
     "duration": 0.050394,
     "end_time": "2022-03-07T21:39:14.664289",
     "exception": false,
     "start_time": "2022-03-07T21:39:14.613895",
     "status": "completed"
    },
    "tags": []
   },
   "source": [
    "# Final Model"
   ]
  },
  {
   "cell_type": "code",
   "execution_count": 82,
   "id": "fa0dfb35",
   "metadata": {
    "execution": {
     "iopub.execute_input": "2022-03-07T21:39:14.788537Z",
     "iopub.status.busy": "2022-03-07T21:39:14.787819Z",
     "iopub.status.idle": "2022-03-07T21:39:15.279389Z",
     "shell.execute_reply": "2022-03-07T21:39:15.278745Z",
     "shell.execute_reply.started": "2022-03-07T21:36:16.281478Z"
    },
    "papermill": {
     "duration": 0.564246,
     "end_time": "2022-03-07T21:39:15.279549",
     "exception": false,
     "start_time": "2022-03-07T21:39:14.715303",
     "status": "completed"
    },
    "tags": []
   },
   "outputs": [],
   "source": [
    "tfidf = TfidfVectorizer()\n",
    "tfidf.fit(X)\n",
    "\n",
    "X_train_tfidf = tfidf.transform(X)\n",
    "X_test_tfidf = tfidf.transform(test_data['text'])"
   ]
  },
  {
   "cell_type": "code",
   "execution_count": 83,
   "id": "5f38097c",
   "metadata": {
    "execution": {
     "iopub.execute_input": "2022-03-07T21:39:15.384453Z",
     "iopub.status.busy": "2022-03-07T21:39:15.383816Z",
     "iopub.status.idle": "2022-03-07T21:39:16.244751Z",
     "shell.execute_reply": "2022-03-07T21:39:16.245837Z",
     "shell.execute_reply.started": "2022-03-07T21:36:28.140308Z"
    },
    "papermill": {
     "duration": 0.915783,
     "end_time": "2022-03-07T21:39:16.246120",
     "exception": false,
     "start_time": "2022-03-07T21:39:15.330337",
     "status": "completed"
    },
    "tags": []
   },
   "outputs": [
    {
     "data": {
      "text/plain": "LogisticRegression(max_iter=1000)"
     },
     "execution_count": 83,
     "metadata": {},
     "output_type": "execute_result"
    }
   ],
   "source": [
    "from sklearn.linear_model import LogisticRegression\n",
    "log = LogisticRegression(max_iter=1000)\n",
    "log.fit(X_train_tfidf,y)"
   ]
  },
  {
   "cell_type": "code",
   "execution_count": 84,
   "id": "3b231e22",
   "metadata": {
    "execution": {
     "iopub.execute_input": "2022-03-07T21:39:16.428427Z",
     "iopub.status.busy": "2022-03-07T21:39:16.427724Z",
     "iopub.status.idle": "2022-03-07T21:39:16.431066Z",
     "shell.execute_reply": "2022-03-07T21:39:16.431574Z",
     "shell.execute_reply.started": "2022-03-07T21:36:46.633733Z"
    },
    "papermill": {
     "duration": 0.060077,
     "end_time": "2022-03-07T21:39:16.431783",
     "exception": false,
     "start_time": "2022-03-07T21:39:16.371706",
     "status": "completed"
    },
    "tags": []
   },
   "outputs": [],
   "source": [
    "predictions = log.predict(X_test_tfidf)"
   ]
  },
  {
   "cell_type": "code",
   "execution_count": 85,
   "id": "5e523a6b",
   "metadata": {
    "execution": {
     "iopub.execute_input": "2022-03-07T21:39:16.542884Z",
     "iopub.status.busy": "2022-03-07T21:39:16.542187Z",
     "iopub.status.idle": "2022-03-07T21:39:16.554567Z",
     "shell.execute_reply": "2022-03-07T21:39:16.555191Z",
     "shell.execute_reply.started": "2022-03-07T21:38:40.465860Z"
    },
    "papermill": {
     "duration": 0.071331,
     "end_time": "2022-03-07T21:39:16.555414",
     "exception": false,
     "start_time": "2022-03-07T21:39:16.484083",
     "status": "completed"
    },
    "tags": [],
    "pycharm": {
     "name": "#%%\n"
    }
   },
   "outputs": [
    {
     "name": "stdout",
     "output_type": "stream",
     "text": [
      "Your submission was successfully saved!\n"
     ]
    }
   ],
   "source": [
    "output = pd.DataFrame({'id': test_data['id'], 'target': predictions})\n",
    "output.to_csv('submission.csv', index=False)\n",
    "print(\"Your submission was successfully saved!\")"
   ]
  }
 ],
 "metadata": {
  "kernelspec": {
   "display_name": "Python 3",
   "language": "python",
   "name": "python3"
  },
  "language_info": {
   "codemirror_mode": {
    "name": "ipython",
    "version": 3
   },
   "file_extension": ".py",
   "mimetype": "text/x-python",
   "name": "python",
   "nbconvert_exporter": "python",
   "pygments_lexer": "ipython3",
   "version": "3.7.12"
  },
  "papermill": {
   "default_parameters": {},
   "duration": 20.766492,
   "end_time": "2022-03-07T21:39:17.623278",
   "environment_variables": {},
   "exception": null,
   "input_path": "__notebook__.ipynb",
   "output_path": "__notebook__.ipynb",
   "parameters": {},
   "start_time": "2022-03-07T21:38:56.856786",
   "version": "2.3.3"
  }
 },
 "nbformat": 4,
 "nbformat_minor": 5
}